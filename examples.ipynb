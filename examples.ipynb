{
 "cells": [
  {
   "cell_type": "markdown",
   "metadata": {},
   "source": [
    "# Cashflows package use-cases\n",
    "\n",
    "By: **Rodrigo Hernandez Mota**"
   ]
  },
  {
   "cell_type": "code",
   "execution_count": 1,
   "metadata": {
    "collapsed": true
   },
   "outputs": [],
   "source": [
    "%matplotlib inline\n",
    "from cashflows import CashFlow, CashFlowStream"
   ]
  },
  {
   "cell_type": "markdown",
   "metadata": {},
   "source": [
    "## Algebraic properties\n",
    "\n",
    "We define the following algebraic propoerties to test the CashFlow and CashFlowStream objects.\n",
    "\n",
    "These properties arise for any set of cashflows corresponding to the same time value.\n",
    "\n",
    "**Commutative property**\n",
    "\n",
    "$$A + B = B + A$$\n",
    "\n",
    "**Associative property**\n",
    "\n",
    "$$(A + B) + C = A + (B + C)$$\n",
    "\n",
    "**Distributive property**\n",
    "\n",
    "$$r(A + B) = rA + rB$$\n",
    "\n",
    "**Associative property scalar**\n",
    "\n",
    "$$r(sA) = (rs)A$$\n",
    "\n",
    "**Distributive property scalar**\n",
    "\n",
    "$$(r + s)A = rA + sA$$\n",
    "\n",
    "\n",
    "**Null or Empty**\n",
    "\n",
    "* The empty cashflow is defined as the cashflow with value of zero for any given time.\n",
    "* The empty cashflow-stream is defined as a stream with no cashflow objects.\n",
    "\n",
    "$$A + Empty = A$$\n",
    "\n",
    "**Negation**\n",
    "\n",
    "$$A + A.neg = Empty$$\n",
    "\n",
    "\n"
   ]
  },
  {
   "cell_type": "code",
   "execution_count": 2,
   "metadata": {
    "collapsed": true
   },
   "outputs": [],
   "source": [
    "from typing import TypeVar\n",
    "\n",
    "real_number = TypeVar('R', int, float)\n",
    "cashflow_object = TypeVar('CF', CashFlow, CashFlowStream)\n",
    "\n",
    "def test_commutative_property(A: cashflow_object, B: cashflow_object) -> bool:\n",
    "    \"\"\"A + B = B + A\"\"\"\n",
    "    return A.add(B) == B.add(A)\n",
    "\n",
    "def test_associative_property(A: cashflow_object, B: cashflow_object, C: cashflow_object) -> bool:\n",
    "    \"\"\"(A + B) + C = A + (B + C)\"\"\"\n",
    "    return (A.add(B)).add(C) == A.add(B.add(C))\n",
    "\n",
    "def test_distributive_property(A: cashflow_object, B: cashflow_object, r: real_number) -> bool:\n",
    "    \"\"\"r(A + B) = rA + rB\"\"\"\n",
    "    return (A.add(B)).scale(r) == A.scale(r).add(B.scale(r))\n",
    "\n",
    "def test_associative_propoerty_scalar(A: cashflow_object, r: real_number, s: real_number) -> bool:\n",
    "    \"\"\"r(sA) = (rs)A\"\"\"\n",
    "    return A.scale(s).scale(r) == A.scale(r*s)\n",
    "\n",
    "def test_distributive_property_scalar(A: cashflow_object, r: real_number, s: real_number) -> bool:\n",
    "    \"\"\"r + s)A = rA + sA\"\"\"\n",
    "    return A.scale(r + s) == A.scale(r).add(A.scale(s))\n",
    "\n",
    "def test_empty_set(A: cashflow_object, Empty: cashflow_object) -> bool:\n",
    "    \"\"\"A + Empty = A\"\"\"\n",
    "    return A.add(Empty) == A\n",
    "\n",
    "def test_negation(A: cashflow_object, Empty: cashflow_object) -> bool:\n",
    "    \"\"\"A + neg(A) = Empty\"\"\"\n",
    "    return A.add(A.neg()) == Empty\n",
    "\n",
    "def test_properties(A: cashflow_object, B: cashflow_object, C: cashflow_object, Empty: cashflow_object, r: real_number, s: real_number) -> bool:\n",
    "    results = [\n",
    "        test_commutative_property(A, B),\n",
    "        test_associative_property(A, B, C),\n",
    "        test_distributive_property(A, B, r),\n",
    "        test_associative_propoerty_scalar(A, r, s),\n",
    "        test_distributive_property_scalar(A, r, s),\n",
    "        test_empty_set(A, Empty),\n",
    "        test_negation(A, Empty)\n",
    "    ]\n",
    "    return all(results)\n"
   ]
  },
  {
   "cell_type": "markdown",
   "metadata": {},
   "source": [
    "## Definition and examples"
   ]
  },
  {
   "cell_type": "markdown",
   "metadata": {},
   "source": [
    "### Cashflow"
   ]
  },
  {
   "cell_type": "markdown",
   "metadata": {},
   "source": [
    "A cashflow is defined as a monetary quantity fixed on a given time. This monetary quantity can be of the following nature: \n",
    "* **Inflow**: whenever the investor received money.\n",
    "* **Outflow**: whenever the investor is required to give money away.\n",
    "\n",
    "Let say we have $M$ monetary units. Then an inflow would be represented as $M$ and an outflow as $-M$. Selecting the nature of this quantity and defining a realization time, say $t=t_0$ it's essential to generate a cashflow.\n",
    "\n",
    "Therefore, a cashflow instance has a monetary value and fixed time. "
   ]
  },
  {
   "cell_type": "markdown",
   "metadata": {},
   "source": [
    "#### OPERATIONS"
   ]
  },
  {
   "cell_type": "markdown",
   "metadata": {},
   "source": [
    "\n",
    "**Attributes**\n",
    "\n",
    "Given a well defined cashflow $A$ we can peek its attributes by performing:\n",
    "\n",
    "* Time attribute: $A.time$\n",
    "* Monetary units attribute: $A.value$\n",
    "\n",
    "**Add operation**\n",
    "\n",
    "If a cashflow $B$ its defined such that $A.time = B.time$ then the **add** operation can be performed.\n",
    "\n",
    "$$C = A + B$$\n",
    "\n",
    "Where:\n",
    "* $C.time = A.time = B.time$\n",
    "* $C.value = A.value + B.value$\n",
    "\n",
    "**Scale operation**\n",
    "\n",
    "Given a scalar $r$ the **scale** operation states that:\n",
    "\n",
    "$$C = rA$$\n",
    "\n",
    "Where:\n",
    "* $C.time = A.time$\n",
    "* $C.value = r * A.value$\n",
    "\n",
    "The programming examples use methods to perform the special operations among cashflows. "
   ]
  },
  {
   "cell_type": "code",
   "execution_count": 3,
   "metadata": {
    "collapsed": false
   },
   "outputs": [
    {
     "name": "stdout",
     "output_type": "stream",
     "text": [
      "Flow(type: inflow, time: 1, value: 10.0, currency: mxn)\n",
      "Flow(type: outflow, time: 1, value: 7.0, currency: mxn)\n"
     ]
    }
   ],
   "source": [
    "r = 0.75\n",
    "A = CashFlow(value=10, time=1)\n",
    "B = CashFlow(value=-7, time=1)\n",
    "C = CashFlow(value=20, time=0)\n",
    "\n",
    "print(str(A))\n",
    "print(str(B))"
   ]
  },
  {
   "cell_type": "code",
   "execution_count": 6,
   "metadata": {
    "collapsed": false
   },
   "outputs": [
    {
     "name": "stdout",
     "output_type": "stream",
     "text": [
      "Flow(type: inflow, time: 1, value: 3.0, currency: mxn)\n"
     ]
    }
   ],
   "source": [
    "# Add operation\n",
    "C = A.add(B)\n",
    "\n",
    "print(str(C))"
   ]
  },
  {
   "cell_type": "code",
   "execution_count": 11,
   "metadata": {
    "collapsed": false
   },
   "outputs": [
    {
     "name": "stdout",
     "output_type": "stream",
     "text": [
      "This A.add(D) generates an error.\n"
     ]
    }
   ],
   "source": [
    "# Add operation performed with uncompatible cashflows.\n",
    "try:\n",
    "    A.add(D)\n",
    "except ValueError:\n",
    "    print(\"This A.add(D) generates an error.\")"
   ]
  },
  {
   "cell_type": "code",
   "execution_count": 9,
   "metadata": {
    "collapsed": false
   },
   "outputs": [
    {
     "name": "stdout",
     "output_type": "stream",
     "text": [
      "Flow(type: inflow, time: 1, value: 7.5, currency: mxn)\n"
     ]
    }
   ],
   "source": [
    "# Scale operation\n",
    "C = A.scale(r)\n",
    "print(str(C))"
   ]
  },
  {
   "cell_type": "markdown",
   "metadata": {},
   "source": [
    "#### PROPERTIES"
   ]
  },
  {
   "cell_type": "code",
   "execution_count": 9,
   "metadata": {
    "collapsed": false
   },
   "outputs": [
    {
     "data": {
      "text/plain": [
       "True"
      ]
     },
     "execution_count": 9,
     "metadata": {},
     "output_type": "execute_result"
    }
   ],
   "source": [
    "test_properties(\n",
    "    A=CashFlow(value=10, time=1),\n",
    "    B=CashFlow(value=-7, time=1),\n",
    "    C=CashFlow(value=20, time=1),\n",
    "    Empty=CashFlow(value=0, time=1),\n",
    "    r=5,\n",
    "    s=3\n",
    ")"
   ]
  },
  {
   "cell_type": "markdown",
   "metadata": {},
   "source": [
    "### Cashflow Stream"
   ]
  },
  {
   "cell_type": "markdown",
   "metadata": {},
   "source": [
    "A stream of cashflows on its essence is a collection of individual non-compatible by time cashflows usually generated by a common financial asset. \n",
    "\n",
    "Let the core of a cashflow-stream $A$ be defined as:\n",
    "\n",
    "$$A_c = (C_0, C_1, C_2, ..., C_n)$$\n",
    "\n",
    "Where $C_i$ represents a cashflow with time-attribute i. \n",
    "\n",
    "Basic operations are defined among cashflow-streams in order to provide a basis to solve complex problems.\n",
    "\n",
    "#### OPERATIONS\n",
    "\n",
    "**Attributes**\n",
    "\n",
    "A well define cashflow-stream has the following attributes:\n",
    "* $A.length$: number of cashflows in the stream.\n",
    "* $A.order$: max time-attribute in the stream.\n",
    "* $A.flows$: list containing the iindividual non-compatible by time cashflows.\n",
    "\n",
    "**Add operation**\n",
    "\n",
    "Let $B$ be a well-defined cashflow-series of any order and lenght.\n",
    "\n",
    "$$C = A + B$$\n",
    "\n",
    "Where:\n",
    "* $(C.flows)_t = (A.flows)_t + (B.flows)_t$ for each $t \\leq max(A.order, B.order)$.\n",
    "\n",
    "**Scale operation**\n",
    "\n",
    "Let $r$ be a scalar. \n",
    "\n",
    "$$C = rA$$\n",
    "\n",
    "Where:\n",
    "* $C.flows = [r * a_i]$ where $a_i$ represents each elements of $A.flows$."
   ]
  },
  {
   "cell_type": "code",
   "execution_count": 37,
   "metadata": {
    "collapsed": true
   },
   "outputs": [],
   "source": [
    "time_range = (0, 10)\n",
    "value_range = (10, 100)\n",
    "r = 5\n",
    "A = CashFlowStream(time_type=\"int\")\n",
    "B = CashFlowStream(time_type=\"int\")\n",
    "\n",
    "A.random_initialization(n=5, time_range=time_range, value_range=value_range)\n",
    "B.random_initialization(n=4, time_range=time_range, value_range=value_range)"
   ]
  },
  {
   "cell_type": "code",
   "execution_count": 39,
   "metadata": {
    "collapsed": false
   },
   "outputs": [
    {
     "name": "stdout",
     "output_type": "stream",
     "text": [
      "{\n",
      "\tFlow(type: inflow, time: 2, value: 6.0, currency: mxn)\n",
      "\tFlow(type: outflow, time: 3, value: 57.0, currency: mxn)\n",
      "\tFlow(type: outflow, time: 0, value: 63.0, currency: mxn)\n",
      "\tFlow(type: outflow, time: 1, value: 44.0, currency: mxn)\n",
      "}\n",
      "{\n",
      "\tFlow(type: inflow, time: 1, value: 63.0, currency: mxn)\n",
      "\tFlow(type: inflow, time: 9, value: 27.0, currency: mxn)\n",
      "\tFlow(type: outflow, time: 7, value: 40.0, currency: mxn)\n",
      "}\n",
      "{\n",
      "\tFlow(type: inflow, time: 2, value: 6.0, currency: mxn)\n",
      "\tFlow(type: outflow, time: 3, value: 57.0, currency: mxn)\n",
      "\tFlow(type: outflow, time: 0, value: 63.0, currency: mxn)\n",
      "\tFlow(type: inflow, time: 1, value: 19.0, currency: mxn)\n",
      "\tFlow(type: inflow, time: 9, value: 27.0, currency: mxn)\n",
      "\tFlow(type: outflow, time: 7, value: 40.0, currency: mxn)\n",
      "}\n"
     ]
    }
   ],
   "source": [
    "# Add operation\n",
    "C = A.add(B)\n",
    "for stream in [A, B, C]:\n",
    "    print(str(stream))"
   ]
  },
  {
   "cell_type": "code",
   "execution_count": 41,
   "metadata": {
    "collapsed": false
   },
   "outputs": [
    {
     "name": "stdout",
     "output_type": "stream",
     "text": [
      "{\n",
      "\tFlow(type: inflow, time: 2, value: 30.0, currency: mxn)\n",
      "\tFlow(type: outflow, time: 3, value: 285.0, currency: mxn)\n",
      "\tFlow(type: outflow, time: 0, value: 315.0, currency: mxn)\n",
      "\tFlow(type: outflow, time: 1, value: 220.0, currency: mxn)\n",
      "}\n"
     ]
    }
   ],
   "source": [
    "# Scale operation\n",
    "C = A.scale(r)\n",
    "\n",
    "print(str(C))"
   ]
  },
  {
   "cell_type": "markdown",
   "metadata": {},
   "source": [
    "### Properties"
   ]
  },
  {
   "cell_type": "code",
   "execution_count": 3,
   "metadata": {
    "collapsed": false
   },
   "outputs": [
    {
     "data": {
      "text/plain": [
       "True"
      ]
     },
     "execution_count": 3,
     "metadata": {},
     "output_type": "execute_result"
    }
   ],
   "source": [
    "# Define a time interval between 0 and 10.\n",
    "time_range = (0, 10)\n",
    "\n",
    "# Define a value interval between 10 and 100\n",
    "value_range = (10, 100)\n",
    "\n",
    "test_properties(\n",
    "    A=CashFlowStream(time_type=\"int\").random_initialization(5, time_range, value_range, inplace=False),\n",
    "    B=CashFlowStream(time_type=\"int\").random_initialization(4, time_range, value_range, inplace=False),\n",
    "    C=CashFlowStream(time_type=\"int\").random_initialization(6, time_range, value_range, inplace=False),\n",
    "    Empty=CashFlowStream(time_type=\"int\"),\n",
    "    r=5,\n",
    "    s=3\n",
    ")"
   ]
  },
  {
   "cell_type": "markdown",
   "metadata": {},
   "source": [
    "## Example"
   ]
  },
  {
   "cell_type": "markdown",
   "metadata": {},
   "source": [
    "Let's assume we participate in a bond based on the bitcoin cryptocurrency."
   ]
  },
  {
   "cell_type": "code",
   "execution_count": 2,
   "metadata": {
    "collapsed": true
   },
   "outputs": [],
   "source": [
    "cash_stream = CashFlowStream(time_type=\"int\", currency=\"BTC\")"
   ]
  },
  {
   "cell_type": "markdown",
   "metadata": {},
   "source": [
    "This bond costs 100 BTC at $t=0$ and generates the following cash-flows:\n",
    "\n",
    "* $t=2, c=28$ \n",
    "* $t=3, c=50$\n",
    "* $t=4, c=-10$ \n",
    "* $t=5, c=70$ \n",
    "* $t=8, c=-5$ \n",
    "\n",
    "The negative cashflows suggest you must perform a payment (outflow). "
   ]
  },
  {
   "cell_type": "code",
   "execution_count": 3,
   "metadata": {
    "collapsed": true
   },
   "outputs": [],
   "source": [
    "cash_stream.put(time=0, value=-100)\n",
    "cash_stream.put(time=2, value=28)\n",
    "cash_stream.put(time=3, value=50)\n",
    "cash_stream.put(time=4, value=-10)\n",
    "cash_stream.put(time=5, value=70)\n",
    "cash_stream.put(time=8, value=-5)"
   ]
  },
  {
   "cell_type": "markdown",
   "metadata": {},
   "source": [
    "To visualize the complete stream:"
   ]
  },
  {
   "cell_type": "code",
   "execution_count": 4,
   "metadata": {
    "collapsed": false
   },
   "outputs": [
    {
     "data": {
      "image/png": "[encoded data removed]",
      "text/plain": [
       "<matplotlib.figure.Figure at 0x7fce1d226550>"
      ]
     },
     "metadata": {},
     "output_type": "display_data"
    }
   ],
   "source": [
    "cash_stream.plot()"
   ]
  },
  {
   "cell_type": "markdown",
   "metadata": {},
   "source": [
    "## Cash on cash multiple\n",
    "\n",
    "The cash-on-cash multiple is a measure that indicates the relation among the output flows and the input flows. An investor will prefer values > 1.\n",
    "\n",
    "\n",
    "$$\n",
    "CCM = \\frac{\\sum_i^n outflow_i }{\\sum_j^m inflow_j }\n",
    "$$\n",
    "\n",
    "To get this value call the method *.get_cash_on_cash_multiple()*"
   ]
  },
  {
   "cell_type": "code",
   "execution_count": 10,
   "metadata": {
    "collapsed": false
   },
   "outputs": [
    {
     "name": "stdout",
     "output_type": "stream",
     "text": [
      "The cash-on-cash multiple of the investment: 1.29\n"
     ]
    }
   ],
   "source": [
    "CCM = \"The cash-on-cash multiple of the investment: %0.2f\"\n",
    "\n",
    "print(CCM % cash_stream.get_cash_on_cash_multiple())"
   ]
  },
  {
   "cell_type": "markdown",
   "metadata": {},
   "source": [
    "## Internal Return Rate\n",
    "\n",
    "The IRR represent the rate at which the cash-flow structure adds value to the invested money. In essence, the IRR is a rate $r$ such that:\n",
    "\n",
    "$$\n",
    "\\sum_{i=0}^n \\frac{C_i}{(1+r)^i} = 0\n",
    "$$\n",
    "\n",
    "{note: add theory}"
   ]
  },
  {
   "cell_type": "code",
   "execution_count": 12,
   "metadata": {
    "collapsed": false
   },
   "outputs": [
    {
     "name": "stdout",
     "output_type": "stream",
     "text": [
      "The internal return rate of the investment: 8.40 annual.\n"
     ]
    }
   ],
   "source": [
    "IRR = \"The internal return rate of the investment: %0.2f annual.\"\n",
    "\n",
    "print(IRR % cash_stream.get_irr())"
   ]
  },
  {
   "cell_type": "markdown",
   "metadata": {},
   "source": [
    "## Dates\n",
    "\n",
    "Use date timestamps for cashflow streams."
   ]
  },
  {
   "cell_type": "code",
   "execution_count": 14,
   "metadata": {
    "collapsed": false
   },
   "outputs": [],
   "source": [
    "cash_stream_date = CashFlowStream(time_type=\"date\")"
   ]
  },
  {
   "cell_type": "code",
   "execution_count": 15,
   "metadata": {
    "collapsed": true
   },
   "outputs": [],
   "source": [
    "cash_stream_date.put(time=\"2018-01-01\", value=100)\n",
    "cash_stream_date.put(time=\"2020-01-01\", value=-50)\n",
    "cash_stream_date.put(time=\"2022-01-01\", value=-80)\n",
    "cash_stream_date.put(time=\"2022-01-01\", value=10)"
   ]
  },
  {
   "cell_type": "markdown",
   "metadata": {},
   "source": [
    "Same metrics are available using the xnpv and xirr functions (based on days)."
   ]
  },
  {
   "cell_type": "code",
   "execution_count": 18,
   "metadata": {
    "collapsed": false
   },
   "outputs": [
    {
     "name": "stdout",
     "output_type": "stream",
     "text": [
      "Cash-on-cash multiple: 0.83 \n",
      "IRR: 5.98 percent.\n"
     ]
    }
   ],
   "source": [
    "res = \"Cash-on-cash multiple: %0.2f \\nIRR: %0.2f percent.\" % (cash_stream_date.get_cash_on_cash_multiple(), cash_stream_date.get_irr())\n",
    "\n",
    "print(res)"
   ]
  },
  {
   "cell_type": "code",
   "execution_count": 16,
   "metadata": {
    "collapsed": false
   },
   "outputs": [
    {
     "data": {
      "image/png": "[encoded data removed]",
      "text/plain": [
       "<matplotlib.figure.Figure at 0x7fcde48c08d0>"
      ]
     },
     "metadata": {},
     "output_type": "display_data"
    }
   ],
   "source": [
    "cash_stream_date.plot()"
   ]
  }
 ],
 "metadata": {
  "kernelspec": {
   "display_name": "Python 3",
   "language": "python",
   "name": "python3"
  },
  "language_info": {
   "codemirror_mode": {
    "name": "ipython",
    "version": 3
   },
   "file_extension": ".py",
   "mimetype": "text/x-python",
   "name": "python",
   "nbconvert_exporter": "python",
   "pygments_lexer": "ipython3",
   "version": "3.6.3"
  }
 },
 "nbformat": 4,
 "nbformat_minor": 2
}
