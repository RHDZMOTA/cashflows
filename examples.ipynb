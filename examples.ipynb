{
 "cells": [
  {
   "cell_type": "markdown",
   "metadata": {},
   "source": [
    "# CashFlow Examples\n",
    "\n",
    "By: **Rodrigo Hernandez Mota**"
   ]
  },
  {
   "cell_type": "markdown",
   "metadata": {},
   "source": [
    "We start by importing the CashFlow class from the package and creating an instance."
   ]
  },
  {
   "cell_type": "code",
   "execution_count": 1,
   "metadata": {
    "collapsed": false
   },
   "outputs": [],
   "source": [
    "%matplotlib inline\n",
    "from cashflows import CashFlow\n"
   ]
  },
  {
   "cell_type": "code",
   "execution_count": null,
   "metadata": {
    "collapsed": true
   },
   "outputs": [],
   "source": [
    "cash_flow = CashFlow(time_type=\"int\")"
   ]
  },
  {
   "cell_type": "markdown",
   "metadata": {},
   "source": [
    "This class serves as a handler of individual cashflows. Let's assume an investor begins with an outgoing cashflow of 100 bitcoin units at time 0."
   ]
  },
  {
   "cell_type": "code",
   "execution_count": 4,
   "metadata": {
    "collapsed": false
   },
   "outputs": [
    {
     "name": "stdout",
     "output_type": "stream",
     "text": [
      "{\n",
      "\tFlow(type: outflow, time: 0, value: 100.0, currency: BTC)\n",
      "}\n"
     ]
    }
   ],
   "source": [
    "cash_flow.add(\n",
    "    flow_type=\"outflow\",\n",
    "    value=100,\n",
    "    time=0,\n",
    "    currency=\"BTC\"\n",
    ")\n",
    "\n",
    "print(cash_flow.to_string())"
   ]
  },
  {
   "cell_type": "markdown",
   "metadata": {},
   "source": [
    "As it can be seen, the key parameters for a \"flow\" are:\n",
    "* **flow_type**: Whether its an \"outflow\" (i.e. when the investor pays cash) or an \"inflow\" (i.e. when the investor receives cash).\n",
    "* **time**: Arbitrary time representing the \"position\" of the investment. Must be integer.\n",
    "* **value**: Number of currency units.\n",
    "* **currency**: Currency denomination.\n",
    "\n",
    "An ingoing flow of 20 BTC at 2 time units will be represented as:"
   ]
  },
  {
   "cell_type": "code",
   "execution_count": 5,
   "metadata": {
    "collapsed": false
   },
   "outputs": [
    {
     "name": "stdout",
     "output_type": "stream",
     "text": [
      "{\n",
      "\tFlow(type: outflow, time: 0, value: 100.0, currency: BTC)\n",
      "\tFlow(type: inflow, time: 2, value: 20.0, currency: BTC)\n",
      "}\n"
     ]
    }
   ],
   "source": [
    "cash_flow.add(\n",
    "    flow_type=\"inflow\",\n",
    "    value=20,\n",
    "    time=2,\n",
    "    currency=\"BTC\"\n",
    ")\n",
    "\n",
    "print(cash_flow.to_string())"
   ]
  },
  {
   "cell_type": "markdown",
   "metadata": {},
   "source": [
    "## Adding cash flows"
   ]
  },
  {
   "cell_type": "markdown",
   "metadata": {},
   "source": [
    "We can add arbitrary cashflows at any time. "
   ]
  },
  {
   "cell_type": "code",
   "execution_count": 6,
   "metadata": {
    "collapsed": false
   },
   "outputs": [
    {
     "name": "stdout",
     "output_type": "stream",
     "text": [
      "{\n",
      "\tFlow(type: outflow, time: 0, value: 100.0, currency: BTC)\n",
      "\tFlow(type: inflow, time: 2, value: 20.0, currency: BTC)\n",
      "\tFlow(type: inflow, time: 3, value: 50.0, currency: BTC)\n",
      "\tFlow(type: outflow, time: 4, value: 10.0, currency: BTC)\n",
      "}\n"
     ]
    }
   ],
   "source": [
    "cash_flow.add(\n",
    "    flow_type=\"inflow\",\n",
    "    value=50,\n",
    "    time=3,\n",
    "    currency=\"BTC\"\n",
    ")\n",
    "\n",
    "cash_flow.add(\n",
    "    flow_type=\"outflow\",\n",
    "    value=10,\n",
    "    time=4,\n",
    "    currency=\"BTC\"\n",
    ")\n",
    "\n",
    "print(cash_flow.to_string())"
   ]
  },
  {
   "cell_type": "markdown",
   "metadata": {},
   "source": [
    "Note the following in-going flow at time 5 for 40 BTC:"
   ]
  },
  {
   "cell_type": "code",
   "execution_count": 7,
   "metadata": {
    "collapsed": false
   },
   "outputs": [
    {
     "name": "stdout",
     "output_type": "stream",
     "text": [
      "{\n",
      "\tFlow(type: outflow, time: 0, value: 100.0, currency: BTC)\n",
      "\tFlow(type: inflow, time: 2, value: 20.0, currency: BTC)\n",
      "\tFlow(type: inflow, time: 3, value: 50.0, currency: BTC)\n",
      "\tFlow(type: outflow, time: 4, value: 10.0, currency: BTC)\n",
      "\tFlow(type: inflow, time: 5, value: 40.0, currency: BTC)\n",
      "}\n"
     ]
    }
   ],
   "source": [
    "\n",
    "cash_flow.add(\n",
    "    flow_type=\"inflow\",\n",
    "    value=40,\n",
    "    time=5,\n",
    "    currency=\"BTC\"\n",
    ")\n",
    "\n",
    "print(cash_flow.to_string())"
   ]
  },
  {
   "cell_type": "markdown",
   "metadata": {},
   "source": [
    "We can add another in-going flow at the same time (5) for another value (30). We should expect this flows to combine and generate a Flow at 5 for 70 BTC. "
   ]
  },
  {
   "cell_type": "code",
   "execution_count": 8,
   "metadata": {
    "collapsed": false
   },
   "outputs": [
    {
     "name": "stdout",
     "output_type": "stream",
     "text": [
      "{\n",
      "\tFlow(type: outflow, time: 0, value: 100.0, currency: BTC)\n",
      "\tFlow(type: inflow, time: 2, value: 20.0, currency: BTC)\n",
      "\tFlow(type: inflow, time: 3, value: 50.0, currency: BTC)\n",
      "\tFlow(type: outflow, time: 4, value: 10.0, currency: BTC)\n",
      "\tFlow(type: inflow, time: 5, value: 70.0, currency: BTC)\n",
      "}\n"
     ]
    }
   ],
   "source": [
    "cash_flow.add(\n",
    "    flow_type=\"inflow\",\n",
    "    value=30,\n",
    "    time=5,\n",
    "    currency=\"BTC\"\n",
    ")\n",
    "\n",
    "print(cash_flow.to_string())"
   ]
  },
  {
   "cell_type": "markdown",
   "metadata": {},
   "source": [
    "We can modify at any time and the flows will adjust."
   ]
  },
  {
   "cell_type": "code",
   "execution_count": 9,
   "metadata": {
    "collapsed": false
   },
   "outputs": [
    {
     "name": "stdout",
     "output_type": "stream",
     "text": [
      "{\n",
      "\tFlow(type: outflow, time: 0, value: 100.0, currency: BTC)\n",
      "\tFlow(type: inflow, time: 2, value: 28.0, currency: BTC)\n",
      "\tFlow(type: inflow, time: 3, value: 50.0, currency: BTC)\n",
      "\tFlow(type: outflow, time: 4, value: 10.0, currency: BTC)\n",
      "\tFlow(type: inflow, time: 5, value: 70.0, currency: BTC)\n",
      "}\n"
     ]
    }
   ],
   "source": [
    "cash_flow.add(\n",
    "    flow_type=\"inflow\",\n",
    "    value=15,\n",
    "    time=2,\n",
    "    currency=\"BTC\"\n",
    ")\n",
    "\n",
    "cash_flow.add(\n",
    "    flow_type=\"outflow\",\n",
    "    value=7,\n",
    "    time=2,\n",
    "    currency=\"BTC\"\n",
    ")\n",
    "\n",
    "print(cash_flow.to_string())"
   ]
  },
  {
   "cell_type": "markdown",
   "metadata": {},
   "source": [
    "A flow can change its type when combined with a grater flow."
   ]
  },
  {
   "cell_type": "code",
   "execution_count": 10,
   "metadata": {
    "collapsed": false
   },
   "outputs": [
    {
     "name": "stdout",
     "output_type": "stream",
     "text": [
      "{\n",
      "\tFlow(type: outflow, time: 0, value: 100.0, currency: BTC)\n",
      "\tFlow(type: inflow, time: 2, value: 28.0, currency: BTC)\n",
      "\tFlow(type: inflow, time: 3, value: 50.0, currency: BTC)\n",
      "\tFlow(type: outflow, time: 4, value: 10.0, currency: BTC)\n",
      "\tFlow(type: inflow, time: 5, value: 70.0, currency: BTC)\n",
      "\tFlow(type: inflow, time: 8, value: 100.0, currency: BTC)\n",
      "}\n",
      "{\n",
      "\tFlow(type: outflow, time: 0, value: 100.0, currency: BTC)\n",
      "\tFlow(type: inflow, time: 2, value: 28.0, currency: BTC)\n",
      "\tFlow(type: inflow, time: 3, value: 50.0, currency: BTC)\n",
      "\tFlow(type: outflow, time: 4, value: 10.0, currency: BTC)\n",
      "\tFlow(type: inflow, time: 5, value: 70.0, currency: BTC)\n",
      "\tFlow(type: outflow, time: 8, value: 5.0, currency: BTC)\n",
      "}\n"
     ]
    }
   ],
   "source": [
    "cash_flow.add(\n",
    "    flow_type=\"inflow\",\n",
    "    value=100,\n",
    "    time=8,\n",
    "    currency=\"BTC\"\n",
    ")\n",
    "\n",
    "print(cash_flow.to_string())\n",
    "\n",
    "\n",
    "cash_flow.add(\n",
    "    flow_type=\"outflow\",\n",
    "    value=105,\n",
    "    time=8,\n",
    "    currency=\"BTC\"\n",
    ")\n",
    "\n",
    "\n",
    "print(cash_flow.to_string())\n"
   ]
  },
  {
   "cell_type": "markdown",
   "metadata": {},
   "source": [
    "## Plot representation"
   ]
  },
  {
   "cell_type": "markdown",
   "metadata": {},
   "source": [
    "A flow can be plotted by assigning postitive values to the \"inflows\" and negative values to the \"outflows\". The x-axis corresponds to the timescale."
   ]
  },
  {
   "cell_type": "code",
   "execution_count": 11,
   "metadata": {
    "collapsed": false
   },
   "outputs": [
    {
     "data": {
      "image/png": "[encoded data removed]",
      "text/plain": [
       "<matplotlib.figure.Figure at 0x7f5cf54c5c50>"
      ]
     },
     "metadata": {},
     "output_type": "display_data"
    }
   ],
   "source": [
    "cash_flow.plot()"
   ]
  },
  {
   "cell_type": "markdown",
   "metadata": {},
   "source": [
    "## Profitability"
   ]
  },
  {
   "cell_type": "markdown",
   "metadata": {},
   "source": [
    "Profitability ratio is a measure that indicates the relation among the output flows and the input flows. An investor will prefer values > 1.\n",
    "\n",
    "\n",
    "$$\n",
    "profitability = \\frac{\\sum_i^n outflow_i }{\\sum_j^m inflow_j }\n",
    "$$\n",
    "\n",
    "To get this value call the method *.get_profitability()*"
   ]
  },
  {
   "cell_type": "code",
   "execution_count": 12,
   "metadata": {
    "collapsed": false
   },
   "outputs": [
    {
     "name": "stdout",
     "output_type": "stream",
     "text": [
      "The profitability ratio is of 1.2869565217391303.\n"
     ]
    }
   ],
   "source": [
    "print(\"The profitability ratio is of {}.\".format(cash_flow.get_profitability()))"
   ]
  },
  {
   "cell_type": "markdown",
   "metadata": {},
   "source": [
    "## Internal Return Rate"
   ]
  },
  {
   "cell_type": "markdown",
   "metadata": {},
   "source": [
    "The IRR represent the rate at which the cash-flow structure adds value to the invested money. \n",
    "\n",
    "$$\n",
    "\\sum_{i=0}^n \\frac{C_i}{(1+r)^i} = 0\n",
    "$$\n",
    "\n",
    "{note: add more theory}"
   ]
  },
  {
   "cell_type": "code",
   "execution_count": 13,
   "metadata": {
    "collapsed": false
   },
   "outputs": [
    {
     "name": "stdout",
     "output_type": "stream",
     "text": [
      "The annual internal return rate is of 8.395584 %\n"
     ]
    }
   ],
   "source": [
    "print(\"The annual internal return rate is of {} %\".format(cash_flow.get_irr()))"
   ]
  },
  {
   "cell_type": "markdown",
   "metadata": {
    "collapsed": true
   },
   "source": [
    "## Use dates"
   ]
  },
  {
   "cell_type": "markdown",
   "metadata": {},
   "source": [
    "You can use a date time datatype for representing real case scenarios."
   ]
  },
  {
   "cell_type": "code",
   "execution_count": 2,
   "metadata": {
    "collapsed": false
   },
   "outputs": [],
   "source": [
    "real_cashflow = CashFlow(time_type=\"date\")\n",
    "\n",
    "real_cashflow.add(flow_type=\"outflow\", value=100, time=\"2018-01-01\")\n",
    "real_cashflow.add(flow_type=\"inflow\", value=50, time=\"2020-01-01\")\n",
    "real_cashflow.add(flow_type=\"inflow\", value=80, time=\"2022-01-01\")\n",
    "real_cashflow.add(flow_type=\"outflow\", value=10, time=\"2022-01-01\")"
   ]
  },
  {
   "cell_type": "markdown",
   "metadata": {},
   "source": [
    "Same metrics are available using the xnpv and xirr functions (based on days)."
   ]
  },
  {
   "cell_type": "code",
   "execution_count": 14,
   "metadata": {
    "collapsed": false
   },
   "outputs": [
    {
     "name": "stdout",
     "output_type": "stream",
     "text": [
      "The profitability it's of 1.200000 with an IRR of 5.978710 percent.\n"
     ]
    }
   ],
   "source": [
    "res = \"The profitability it's of %f with an IRR of %f percent.\" % (real_cashflow.get_profitability(), real_cashflow.get_irr())\n",
    "\n",
    "print(res)"
   ]
  },
  {
   "cell_type": "markdown",
   "metadata": {},
   "source": [
    "Plot the cashflows with the x-axis as timestamp. "
   ]
  },
  {
   "cell_type": "code",
   "execution_count": 15,
   "metadata": {
    "collapsed": false
   },
   "outputs": [
    {
     "data": {
      "image/png": "[encoded data removed]",
      "text/plain": [
       "<matplotlib.figure.Figure at 0x7fae9b5c5e10>"
      ]
     },
     "metadata": {},
     "output_type": "display_data"
    }
   ],
   "source": [
    "real_cashflow.plot()"
   ]
  },
  {
   "cell_type": "code",
   "execution_count": null,
   "metadata": {
    "collapsed": true
   },
   "outputs": [],
   "source": []
  }
 ],
 "metadata": {
  "kernelspec": {
   "display_name": "Python 3",
   "language": "python",
   "name": "python3"
  },
  "language_info": {
   "codemirror_mode": {
    "name": "ipython",
    "version": 3
   },
   "file_extension": ".py",
   "mimetype": "text/x-python",
   "name": "python",
   "nbconvert_exporter": "python",
   "pygments_lexer": "ipython3",
   "version": "3.6.3"
  }
 },
 "nbformat": 4,
 "nbformat_minor": 2
}
