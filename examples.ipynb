{
 "cells": [
  {
   "cell_type": "markdown",
   "metadata": {},
   "source": [
    "# Cashflows package use-cases\n",
    "\n",
    "By: **Rodrigo Hernandez Mota**"
   ]
  },
  {
   "cell_type": "code",
   "execution_count": 1,
   "metadata": {},
   "outputs": [],
   "source": [
    "%matplotlib inline\n",
    "from cashflows import CashFlow, CashFlowStream"
   ]
  },
  {
   "cell_type": "markdown",
   "metadata": {},
   "source": [
    "## Definition and examples"
   ]
  },
  {
   "cell_type": "markdown",
   "metadata": {},
   "source": [
    "### Cashflow"
   ]
  },
  {
   "cell_type": "markdown",
   "metadata": {},
   "source": [
    "A cashflow is defined as a monetary quantity fixed on a given time. This monetary quantity can be of the following nature: \n",
    "* **Inflow**: whenever the investor received money.\n",
    "* **Outflow**: whenever the investor is required to give money away.\n",
    "\n",
    "Let say we have $M$ monetary units. Then an inflow would be represented as $M$ and an outflow as $-M$. Selecting the nature of this quantity and defining a realization time, say $t=t_0$ it's essential to generate a cashflow.\n",
    "\n",
    "Therefore, a cashflow instance has a monetary value and fixed time. "
   ]
  },
  {
   "cell_type": "markdown",
   "metadata": {},
   "source": [
    "#### OPERATIONS"
   ]
  },
  {
   "cell_type": "markdown",
   "metadata": {},
   "source": [
    "\n",
    "**Attributes**\n",
    "\n",
    "Given a well defined cashflow $A$ we can peek its attributes by performing:\n",
    "\n",
    "* Time attribute: $A.time$\n",
    "* Monetary units attribute: $A.value$\n",
    "\n",
    "**Add operation**\n",
    "\n",
    "If a cashflow $B$ its defined such that $A.time = B.time$ then the **add** operation can be performed.\n",
    "\n",
    "$$C = A + B$$\n",
    "\n",
    "Where:\n",
    "* $C.time = A.time = B.time$\n",
    "* $C.value = A.value + B.value$\n",
    "\n",
    "**Scale operation**\n",
    "\n",
    "Given a scalar $r$ the **scale** operation states that:\n",
    "\n",
    "$$C = rA$$\n",
    "\n",
    "Where:\n",
    "* $C.time = A.time$\n",
    "* $C.value = r * A.value$\n",
    "\n",
    "The programming examples use methods to perform the special operations among cashflows. "
   ]
  },
  {
   "cell_type": "code",
   "execution_count": 7,
   "metadata": {},
   "outputs": [
    {
     "name": "stdout",
     "output_type": "stream",
     "text": [
      "Flow(type: inflow, time: 1, value: 10.0, currency: mxn)\n",
      "Flow(type: outflow, time: 1, value: 7.0, currency: mxn)\n"
     ]
    }
   ],
   "source": [
    "r = 0.75\n",
    "A = CashFlow(value=10, time=1)\n",
    "B = CashFlow(value=-7, time=1)\n",
    "C = CashFlow(value=20, time=0)\n",
    "\n",
    "print(str(A))\n",
    "print(str(B))"
   ]
  },
  {
   "cell_type": "code",
   "execution_count": 6,
   "metadata": {},
   "outputs": [
    {
     "name": "stdout",
     "output_type": "stream",
     "text": [
      "Flow(type: inflow, time: 1, value: 3.0, currency: mxn)\n"
     ]
    }
   ],
   "source": [
    "# Add operation\n",
    "C = A.add(B)\n",
    "\n",
    "print(str(C))"
   ]
  },
  {
   "cell_type": "code",
   "execution_count": 11,
   "metadata": {},
   "outputs": [
    {
     "name": "stdout",
     "output_type": "stream",
     "text": [
      "This A.add(D) generates an error.\n"
     ]
    }
   ],
   "source": [
    "# Add operation performed with uncompatible cashflows.\n",
    "try:\n",
    "    A.add(D)\n",
    "except ValueError:\n",
    "    print(\"This A.add(D) generates an error.\")"
   ]
  },
  {
   "cell_type": "code",
   "execution_count": 9,
   "metadata": {},
   "outputs": [
    {
     "name": "stdout",
     "output_type": "stream",
     "text": [
      "Flow(type: inflow, time: 1, value: 7.5, currency: mxn)\n"
     ]
    }
   ],
   "source": [
    "# Scale operation\n",
    "C = A.scale(r)\n",
    "print(str(C))"
   ]
  },
  {
   "cell_type": "markdown",
   "metadata": {},
   "source": [
    "#### PROPERTIES"
   ]
  },
  {
   "cell_type": "markdown",
   "metadata": {},
   "source": [
    "These properties arise for any set of cashflows corresponding to the same time value.\n",
    "\n",
    "**Commutative property**\n",
    "\n",
    "$$A + B = B + A$$\n",
    "\n",
    "**Associative property**\n",
    "\n",
    "$$(A + B) + C = A + (B + C)$$\n",
    "\n",
    "**Distributive property**\n",
    "\n",
    "$$r(A + B) = rA + rB$$\n",
    "\n",
    "**Associative property scalar**\n",
    "\n",
    "$$r(sA) = (rs)A$$\n",
    "\n",
    "**Distributive property scalar**\n",
    "\n",
    "$$(r + s)A = rA + sA$$\n",
    "\n",
    "\n",
    "**Null or Empty**\n",
    "\n",
    "The empty cashflow is defined as the cashflow with value of zero for any given time.\n",
    "\n",
    "$$A + Empty = A$$\n",
    "\n",
    "**Negation**\n",
    "\n",
    "$$A + A.neg = Empty$$\n",
    "\n",
    "\n"
   ]
  },
  {
   "cell_type": "code",
   "execution_count": 25,
   "metadata": {},
   "outputs": [],
   "source": [
    "r = 5\n",
    "s = 3\n",
    "A = CashFlow(value=10, time=1)\n",
    "B = CashFlow(value=-7, time=1)\n",
    "C = CashFlow(value=20, time=1)\n",
    "Empty = CashFlow(value=0, time=1)"
   ]
  },
  {
   "cell_type": "code",
   "execution_count": 17,
   "metadata": {},
   "outputs": [
    {
     "data": {
      "text/plain": [
       "True"
      ]
     },
     "execution_count": 17,
     "metadata": {},
     "output_type": "execute_result"
    }
   ],
   "source": [
    "# Commutative property\n",
    "A.add(B) == B.add(A)"
   ]
  },
  {
   "cell_type": "code",
   "execution_count": 18,
   "metadata": {},
   "outputs": [
    {
     "data": {
      "text/plain": [
       "True"
      ]
     },
     "execution_count": 18,
     "metadata": {},
     "output_type": "execute_result"
    }
   ],
   "source": [
    "# Associative property\n",
    "(A.add(B)).add(C) == A.add(B.add(C))"
   ]
  },
  {
   "cell_type": "code",
   "execution_count": 22,
   "metadata": {},
   "outputs": [
    {
     "data": {
      "text/plain": [
       "True"
      ]
     },
     "execution_count": 22,
     "metadata": {},
     "output_type": "execute_result"
    }
   ],
   "source": [
    "# Distributive property\n",
    "(A.add(B)).scale(r) == A.scale(r).add(B.scale(r))"
   ]
  },
  {
   "cell_type": "code",
   "execution_count": 23,
   "metadata": {},
   "outputs": [
    {
     "data": {
      "text/plain": [
       "True"
      ]
     },
     "execution_count": 23,
     "metadata": {},
     "output_type": "execute_result"
    }
   ],
   "source": [
    "# Associative property scalar\n",
    "A.scale(s).scale(r) == A.scale(r*s)"
   ]
  },
  {
   "cell_type": "code",
   "execution_count": 24,
   "metadata": {},
   "outputs": [
    {
     "data": {
      "text/plain": [
       "True"
      ]
     },
     "execution_count": 24,
     "metadata": {},
     "output_type": "execute_result"
    }
   ],
   "source": [
    "# Distributive property scalar\n",
    "A.scale(r + s) == A.scale(r).add(A.scale(s))"
   ]
  },
  {
   "cell_type": "code",
   "execution_count": 26,
   "metadata": {},
   "outputs": [
    {
     "data": {
      "text/plain": [
       "True"
      ]
     },
     "execution_count": 26,
     "metadata": {},
     "output_type": "execute_result"
    }
   ],
   "source": [
    "# Null or Empty\n",
    "A.add(Empty) == A"
   ]
  },
  {
   "cell_type": "code",
   "execution_count": 28,
   "metadata": {},
   "outputs": [
    {
     "data": {
      "text/plain": [
       "True"
      ]
     },
     "execution_count": 28,
     "metadata": {},
     "output_type": "execute_result"
    }
   ],
   "source": [
    "# Negation\n",
    "A.add(A.scale(-1)) == Empty"
   ]
  },
  {
   "cell_type": "markdown",
   "metadata": {},
   "source": [
    "### Cashflow Stream"
   ]
  },
  {
   "cell_type": "markdown",
   "metadata": {},
   "source": [
    "A stream of cashflows on its essence is a collection of individual non-compatible by time cashflows usually generated by a common financial asset. \n",
    "\n",
    "Let the core of a cashflow-stream $A$ be defined as:\n",
    "\n",
    "$$A_c = (C_0, C_1, C_2, ..., C_n)$$\n",
    "\n",
    "Where $C_i$ represents a cashflow with time-attribute i. \n",
    "\n",
    "Basic operations are defined among cashflow-streams in order to provide a basis to solve complex problems.\n",
    "\n",
    "#### OPERATIONS\n",
    "\n",
    "**Attributes**\n",
    "\n",
    "A well define cashflow-stream has the following attributes:\n",
    "* $A.length$: number of cashflows in the stream.\n",
    "* $A.order$: max time-attribute in the stream.\n",
    "* $A.flows$: list containing the iindividual non-compatible by time cashflows.\n",
    "\n",
    "**Add operation**\n",
    "\n",
    "Let $B$ be a well-defined cashflow-series of any order and lenght.\n",
    "\n",
    "$$C = A + B$$\n",
    "\n",
    "Where:\n",
    "* $(C.flows)_t = (A.flows)_t + (B.flows)_t$ for each $t \\leq max(A.order, B.order)$.\n",
    "\n",
    "**Scale operation**\n",
    "\n",
    "Let $r$ be a scalar. \n",
    "\n",
    "$$C = rA$$\n",
    "\n",
    "Where:\n",
    "* $C.flows = [r * a_i]$ where $a_i$ represents each elements of $A.flows$."
   ]
  },
  {
   "cell_type": "code",
   "execution_count": 37,
   "metadata": {},
   "outputs": [],
   "source": [
    "time_range = (0, 10)\n",
    "value_range = (10, 100)\n",
    "r = 5\n",
    "A = CashFlowStream(time_type=\"int\")\n",
    "B = CashFlowStream(time_type=\"int\")\n",
    "\n",
    "A.random_initialization(n=5, time_range=time_range, value_range=value_range)\n",
    "B.random_initialization(n=4, time_range=time_range, value_range=value_range)"
   ]
  },
  {
   "cell_type": "code",
   "execution_count": 39,
   "metadata": {},
   "outputs": [
    {
     "name": "stdout",
     "output_type": "stream",
     "text": [
      "{\n",
      "\tFlow(type: inflow, time: 2, value: 6.0, currency: mxn)\n",
      "\tFlow(type: outflow, time: 3, value: 57.0, currency: mxn)\n",
      "\tFlow(type: outflow, time: 0, value: 63.0, currency: mxn)\n",
      "\tFlow(type: outflow, time: 1, value: 44.0, currency: mxn)\n",
      "}\n",
      "{\n",
      "\tFlow(type: inflow, time: 1, value: 63.0, currency: mxn)\n",
      "\tFlow(type: inflow, time: 9, value: 27.0, currency: mxn)\n",
      "\tFlow(type: outflow, time: 7, value: 40.0, currency: mxn)\n",
      "}\n",
      "{\n",
      "\tFlow(type: inflow, time: 2, value: 6.0, currency: mxn)\n",
      "\tFlow(type: outflow, time: 3, value: 57.0, currency: mxn)\n",
      "\tFlow(type: outflow, time: 0, value: 63.0, currency: mxn)\n",
      "\tFlow(type: inflow, time: 1, value: 19.0, currency: mxn)\n",
      "\tFlow(type: inflow, time: 9, value: 27.0, currency: mxn)\n",
      "\tFlow(type: outflow, time: 7, value: 40.0, currency: mxn)\n",
      "}\n"
     ]
    }
   ],
   "source": [
    "# Add operation\n",
    "C = A.add(B)\n",
    "for stream in [A, B, C]:\n",
    "    print(str(stream))"
   ]
  },
  {
   "cell_type": "code",
   "execution_count": 41,
   "metadata": {},
   "outputs": [
    {
     "name": "stdout",
     "output_type": "stream",
     "text": [
      "{\n",
      "\tFlow(type: inflow, time: 2, value: 30.0, currency: mxn)\n",
      "\tFlow(type: outflow, time: 3, value: 285.0, currency: mxn)\n",
      "\tFlow(type: outflow, time: 0, value: 315.0, currency: mxn)\n",
      "\tFlow(type: outflow, time: 1, value: 220.0, currency: mxn)\n",
      "}\n"
     ]
    }
   ],
   "source": [
    "# Scale operation\n",
    "C = A.scale(r)\n",
    "\n",
    "print(str(C))"
   ]
  },
  {
   "cell_type": "markdown",
   "metadata": {},
   "source": [
    "#### PROPERTIES\n",
    "These properties arise for interactio among cashflow-streams.\n",
    "\n",
    "**Commutative property**\n",
    "\n",
    "$$A + B = B + A$$\n",
    "\n",
    "**Associative property**\n",
    "\n",
    "$$(A + B) + C = A + (B + C)$$\n",
    "\n",
    "**Distributive property**\n",
    "\n",
    "$$r(A + B) = rA + rB$$\n",
    "\n",
    "**Associative property scalar**\n",
    "\n",
    "$$r(sA) = (rs)A$$\n",
    "\n",
    "**Distributive property scalar**\n",
    "\n",
    "$$(r + s)A = rA + sA$$\n",
    "\n",
    "\n",
    "**Null or Empty**\n",
    "\n",
    "The empty cashflow is defined as the cashflow with value of zero for any given time.\n",
    "\n",
    "$$A + Empty = A$$\n",
    "\n",
    "**Negation**\n",
    "\n",
    "$$A + A.neg = Empty$$\n",
    "\n"
   ]
  },
  {
   "cell_type": "code",
   "execution_count": 64,
   "metadata": {},
   "outputs": [],
   "source": [
    "time_range = (0, 10)\n",
    "value_range = (10, 100)\n",
    "r = 5\n",
    "s = 3\n",
    "A = CashFlowStream(time_type=\"int\")\n",
    "A.random_initialization(n=5, time_range=time_range, value_range=value_range)\n",
    "B = CashFlowStream(time_type=\"int\")\n",
    "B.random_initialization(n=4, time_range=time_range, value_range=value_range)\n",
    "C = CashFlowStream(time_type=\"int\")\n",
    "C.random_initialization(n=6, time_range=time_range, value_range=value_range)\n",
    "Empty = CashFlowStream(time_type=\"int\")"
   ]
  },
  {
   "cell_type": "code",
   "execution_count": 57,
   "metadata": {},
   "outputs": [
    {
     "data": {
      "text/plain": [
       "True"
      ]
     },
     "execution_count": 57,
     "metadata": {},
     "output_type": "execute_result"
    }
   ],
   "source": [
    "# Commutative property\n",
    "A.add(B) == B.add(A)"
   ]
  },
  {
   "cell_type": "code",
   "execution_count": 58,
   "metadata": {},
   "outputs": [
    {
     "data": {
      "text/plain": [
       "True"
      ]
     },
     "execution_count": 58,
     "metadata": {},
     "output_type": "execute_result"
    }
   ],
   "source": [
    "# Associative property\n",
    "(A.add(B)).add(C) == A.add(B.add(C))"
   ]
  },
  {
   "cell_type": "code",
   "execution_count": 61,
   "metadata": {},
   "outputs": [
    {
     "data": {
      "text/plain": [
       "True"
      ]
     },
     "execution_count": 61,
     "metadata": {},
     "output_type": "execute_result"
    }
   ],
   "source": [
    "# Distributive property\n",
    "(A.add(B)).scale(r) == A.scale(r).add(B.scale(r))"
   ]
  },
  {
   "cell_type": "code",
   "execution_count": 62,
   "metadata": {},
   "outputs": [
    {
     "data": {
      "text/plain": [
       "True"
      ]
     },
     "execution_count": 62,
     "metadata": {},
     "output_type": "execute_result"
    }
   ],
   "source": [
    "# Associative property scalar r(sA) = (rs)A\n",
    "(A.scale(s)).scale(r) == A.scale(r * s)"
   ]
  },
  {
   "cell_type": "code",
   "execution_count": 63,
   "metadata": {},
   "outputs": [
    {
     "data": {
      "text/plain": [
       "True"
      ]
     },
     "execution_count": 63,
     "metadata": {},
     "output_type": "execute_result"
    }
   ],
   "source": [
    "# Distributive property scalar (r + s)A = rA + sA\n",
    "A.scale(r + s) == A.scale(r).add(A.scale(s))"
   ]
  },
  {
   "cell_type": "code",
   "execution_count": 65,
   "metadata": {},
   "outputs": [
    {
     "data": {
      "text/plain": [
       "True"
      ]
     },
     "execution_count": 65,
     "metadata": {},
     "output_type": "execute_result"
    }
   ],
   "source": [
    "# Null or Empty A + Empty = A\n",
    "A.add(Empty) == A"
   ]
  },
  {
   "cell_type": "code",
   "execution_count": 66,
   "metadata": {},
   "outputs": [
    {
     "data": {
      "text/plain": [
       "True"
      ]
     },
     "execution_count": 66,
     "metadata": {},
     "output_type": "execute_result"
    }
   ],
   "source": [
    "# Negation\n",
    "A.add(A.neg()) == Empty"
   ]
  },
  {
   "cell_type": "code",
   "execution_count": null,
   "metadata": {},
   "outputs": [],
   "source": []
  },
  {
   "cell_type": "code",
   "execution_count": null,
   "metadata": {},
   "outputs": [],
   "source": []
  },
  {
   "cell_type": "code",
   "execution_count": null,
   "metadata": {},
   "outputs": [],
   "source": []
  },
  {
   "cell_type": "code",
   "execution_count": 67,
   "metadata": {},
   "outputs": [],
   "source": []
  },
  {
   "cell_type": "code",
   "execution_count": 72,
   "metadata": {},
   "outputs": [
    {
     "data": {
      "text/plain": [
       "0.084067"
      ]
     },
     "execution_count": 72,
     "metadata": {},
     "output_type": "execute_result"
    }
   ],
   "source": [
    "A = CashFlowStream(\"int\")\n",
    "A.put(time=0, value=-100)\n",
    "A.put(time=1, value=50)\n",
    "A.put(time=2, value=20)\n",
    "A.put(time=3, value=20)\n",
    "A.put(time=4, value=20)\n",
    "A.put(time=5, value=10)\n",
    "\n",
    "A.get_irr(percentage=False)"
   ]
  },
  {
   "cell_type": "code",
   "execution_count": 74,
   "metadata": {},
   "outputs": [
    {
     "data": {
      "text/plain": [
       "0.084067"
      ]
     },
     "execution_count": 74,
     "metadata": {},
     "output_type": "execute_result"
    }
   ],
   "source": [
    "B = CashFlowStream(\"int\")\n",
    "B.put(time=0, value=-100)\n",
    "B.put(time=1, value=50)\n",
    "B.put(time=2, value=20)\n",
    "B.put(time=3, value=20)\n",
    "B.put(time=4, value=20)\n",
    "B.put(time=6, value=10*(1+A.get_irr(percentage=False)**1))\n",
    "B.get_irr(percentage=False)"
   ]
  },
  {
   "cell_type": "code",
   "execution_count": 75,
   "metadata": {},
   "outputs": [
    {
     "data": {
      "text/plain": [
       "False"
      ]
     },
     "execution_count": 75,
     "metadata": {},
     "output_type": "execute_result"
    }
   ],
   "source": [
    "A == B"
   ]
  },
  {
   "cell_type": "code",
   "execution_count": 77,
   "metadata": {},
   "outputs": [
    {
     "ename": "TypeError",
     "evalue": "unsupported operand type(s) for /: 'CashFlow' and 'float'",
     "output_type": "error",
     "traceback": [
      "\u001b[0;31m---------------------------------------------------------------------------\u001b[0m",
      "\u001b[0;31mTypeError\u001b[0m                                 Traceback (most recent call last)",
      "\u001b[0;32m<ipython-input-77-5e4afbdc3a09>\u001b[0m in \u001b[0;36m<module>\u001b[0;34m()\u001b[0m\n\u001b[0;32m----> 1\u001b[0;31m \u001b[0mA\u001b[0m\u001b[0;34m.\u001b[0m\u001b[0mget_npv\u001b[0m\u001b[0;34m(\u001b[0m\u001b[0mrate\u001b[0m\u001b[0;34m=\u001b[0m\u001b[0;36m0.1\u001b[0m\u001b[0;34m)\u001b[0m\u001b[0;34m\u001b[0m\u001b[0m\n\u001b[0m",
      "\u001b[0;32m~/Documents/github/rhdzmota/cashflows/cashflows/cashflowstream.py\u001b[0m in \u001b[0;36mget_npv\u001b[0;34m(self, rate)\u001b[0m\n\u001b[1;32m    176\u001b[0m         \u001b[0msorted_flows\u001b[0m \u001b[0;34m=\u001b[0m \u001b[0mself\u001b[0m\u001b[0;34m.\u001b[0m\u001b[0mget_sorted_flows\u001b[0m\u001b[0;34m(\u001b[0m\u001b[0;34m)\u001b[0m\u001b[0;34m\u001b[0m\u001b[0m\n\u001b[1;32m    177\u001b[0m         \u001b[0;32mif\u001b[0m \u001b[0mself\u001b[0m\u001b[0;34m.\u001b[0m\u001b[0mtime_type\u001b[0m \u001b[0;34m==\u001b[0m \u001b[0;34m\"int\"\u001b[0m\u001b[0;34m:\u001b[0m\u001b[0;34m\u001b[0m\u001b[0m\n\u001b[0;32m--> 178\u001b[0;31m             \u001b[0;32mreturn\u001b[0m \u001b[0mnpv\u001b[0m\u001b[0;34m(\u001b[0m\u001b[0mrate\u001b[0m\u001b[0;34m,\u001b[0m \u001b[0msorted_flows\u001b[0m\u001b[0;34m)\u001b[0m\u001b[0;34m\u001b[0m\u001b[0m\n\u001b[0m\u001b[1;32m    179\u001b[0m         \u001b[0;32mif\u001b[0m \u001b[0mself\u001b[0m\u001b[0;34m.\u001b[0m\u001b[0mtime_type\u001b[0m \u001b[0;34m==\u001b[0m \u001b[0;34m\"date\"\u001b[0m\u001b[0;34m:\u001b[0m\u001b[0;34m\u001b[0m\u001b[0m\n\u001b[1;32m    180\u001b[0m             \u001b[0;32mreturn\u001b[0m \u001b[0mxnpv\u001b[0m\u001b[0;34m(\u001b[0m\u001b[0msorted_flows\u001b[0m\u001b[0;34m,\u001b[0m \u001b[0mrate\u001b[0m\u001b[0;34m,\u001b[0m \u001b[0myear_days\u001b[0m\u001b[0;34m=\u001b[0m\u001b[0;36m365\u001b[0m\u001b[0;34m)\u001b[0m\u001b[0;34m\u001b[0m\u001b[0m\n",
      "\u001b[0;32m~/.local/lib/python3.6/site-packages/numpy/lib/financial.py\u001b[0m in \u001b[0;36mnpv\u001b[0;34m(rate, values)\u001b[0m\n\u001b[1;32m    721\u001b[0m     \"\"\"\n\u001b[1;32m    722\u001b[0m     \u001b[0mvalues\u001b[0m \u001b[0;34m=\u001b[0m \u001b[0mnp\u001b[0m\u001b[0;34m.\u001b[0m\u001b[0masarray\u001b[0m\u001b[0;34m(\u001b[0m\u001b[0mvalues\u001b[0m\u001b[0;34m)\u001b[0m\u001b[0;34m\u001b[0m\u001b[0m\n\u001b[0;32m--> 723\u001b[0;31m     \u001b[0;32mreturn\u001b[0m \u001b[0;34m(\u001b[0m\u001b[0mvalues\u001b[0m \u001b[0;34m/\u001b[0m \u001b[0;34m(\u001b[0m\u001b[0;36m1\u001b[0m\u001b[0;34m+\u001b[0m\u001b[0mrate\u001b[0m\u001b[0;34m)\u001b[0m\u001b[0;34m**\u001b[0m\u001b[0mnp\u001b[0m\u001b[0;34m.\u001b[0m\u001b[0marange\u001b[0m\u001b[0;34m(\u001b[0m\u001b[0;36m0\u001b[0m\u001b[0;34m,\u001b[0m \u001b[0mlen\u001b[0m\u001b[0;34m(\u001b[0m\u001b[0mvalues\u001b[0m\u001b[0;34m)\u001b[0m\u001b[0;34m)\u001b[0m\u001b[0;34m)\u001b[0m\u001b[0;34m.\u001b[0m\u001b[0msum\u001b[0m\u001b[0;34m(\u001b[0m\u001b[0maxis\u001b[0m\u001b[0;34m=\u001b[0m\u001b[0;36m0\u001b[0m\u001b[0;34m)\u001b[0m\u001b[0;34m\u001b[0m\u001b[0m\n\u001b[0m\u001b[1;32m    724\u001b[0m \u001b[0;34m\u001b[0m\u001b[0m\n\u001b[1;32m    725\u001b[0m \u001b[0;32mdef\u001b[0m \u001b[0mmirr\u001b[0m\u001b[0;34m(\u001b[0m\u001b[0mvalues\u001b[0m\u001b[0;34m,\u001b[0m \u001b[0mfinance_rate\u001b[0m\u001b[0;34m,\u001b[0m \u001b[0mreinvest_rate\u001b[0m\u001b[0;34m)\u001b[0m\u001b[0;34m:\u001b[0m\u001b[0;34m\u001b[0m\u001b[0m\n",
      "\u001b[0;31mTypeError\u001b[0m: unsupported operand type(s) for /: 'CashFlow' and 'float'"
     ]
    }
   ],
   "source": [
    "A.get_npv(rate=0.1)"
   ]
  },
  {
   "cell_type": "markdown",
   "metadata": {},
   "source": [
    "We start by importing the CashFlow class from the package and creating an instance."
   ]
  },
  {
   "cell_type": "code",
   "execution_count": 1,
   "metadata": {},
   "outputs": [],
   "source": [
    "%matplotlib inline\n",
    "from cashflows import CashFlow"
   ]
  },
  {
   "cell_type": "code",
   "execution_count": null,
   "metadata": {
    "collapsed": true
   },
   "outputs": [],
   "source": [
    "cash_flow = CashFlow(time_type=\"int\")"
   ]
  },
  {
   "cell_type": "markdown",
   "metadata": {},
   "source": [
    "This class serves as a handler of individual cashflows. Let's assume an investor begins with an outgoing cashflow of 100 bitcoin units at time 0."
   ]
  },
  {
   "cell_type": "code",
   "execution_count": 4,
   "metadata": {},
   "outputs": [
    {
     "name": "stdout",
     "output_type": "stream",
     "text": [
      "{\n",
      "\tFlow(type: outflow, time: 0, value: 100.0, currency: BTC)\n",
      "}\n"
     ]
    }
   ],
   "source": [
    "cash_flow.add(\n",
    "    flow_type=\"outflow\",\n",
    "    value=100,\n",
    "    time=0,\n",
    "    currency=\"BTC\"\n",
    ")\n",
    "\n",
    "print(cash_flow.to_string())"
   ]
  },
  {
   "cell_type": "markdown",
   "metadata": {},
   "source": [
    "As it can be seen, the key parameters for a \"flow\" are:\n",
    "* **flow_type**: Whether its an \"outflow\" (i.e. when the investor pays cash) or an \"inflow\" (i.e. when the investor receives cash).\n",
    "* **time**: Arbitrary time representing the \"position\" of the investment. Must be integer.\n",
    "* **value**: Number of currency units.\n",
    "* **currency**: Currency denomination.\n",
    "\n",
    "An ingoing flow of 20 BTC at 2 time units will be represented as:"
   ]
  },
  {
   "cell_type": "code",
   "execution_count": 5,
   "metadata": {},
   "outputs": [
    {
     "name": "stdout",
     "output_type": "stream",
     "text": [
      "{\n",
      "\tFlow(type: outflow, time: 0, value: 100.0, currency: BTC)\n",
      "\tFlow(type: inflow, time: 2, value: 20.0, currency: BTC)\n",
      "}\n"
     ]
    }
   ],
   "source": [
    "cash_flow.add(\n",
    "    flow_type=\"inflow\",\n",
    "    value=20,\n",
    "    time=2,\n",
    "    currency=\"BTC\"\n",
    ")\n",
    "\n",
    "print(cash_flow.to_string())"
   ]
  },
  {
   "cell_type": "markdown",
   "metadata": {},
   "source": [
    "## Adding cash flows"
   ]
  },
  {
   "cell_type": "markdown",
   "metadata": {},
   "source": [
    "We can add arbitrary cashflows at any time. "
   ]
  },
  {
   "cell_type": "code",
   "execution_count": 6,
   "metadata": {},
   "outputs": [
    {
     "name": "stdout",
     "output_type": "stream",
     "text": [
      "{\n",
      "\tFlow(type: outflow, time: 0, value: 100.0, currency: BTC)\n",
      "\tFlow(type: inflow, time: 2, value: 20.0, currency: BTC)\n",
      "\tFlow(type: inflow, time: 3, value: 50.0, currency: BTC)\n",
      "\tFlow(type: outflow, time: 4, value: 10.0, currency: BTC)\n",
      "}\n"
     ]
    }
   ],
   "source": [
    "cash_flow.add(\n",
    "    flow_type=\"inflow\",\n",
    "    value=50,\n",
    "    time=3,\n",
    "    currency=\"BTC\"\n",
    ")\n",
    "\n",
    "cash_flow.add(\n",
    "    flow_type=\"outflow\",\n",
    "    value=10,\n",
    "    time=4,\n",
    "    currency=\"BTC\"\n",
    ")\n",
    "\n",
    "print(cash_flow.to_string())"
   ]
  },
  {
   "cell_type": "markdown",
   "metadata": {},
   "source": [
    "Note the following in-going flow at time 5 for 40 BTC:"
   ]
  },
  {
   "cell_type": "code",
   "execution_count": 7,
   "metadata": {},
   "outputs": [
    {
     "name": "stdout",
     "output_type": "stream",
     "text": [
      "{\n",
      "\tFlow(type: outflow, time: 0, value: 100.0, currency: BTC)\n",
      "\tFlow(type: inflow, time: 2, value: 20.0, currency: BTC)\n",
      "\tFlow(type: inflow, time: 3, value: 50.0, currency: BTC)\n",
      "\tFlow(type: outflow, time: 4, value: 10.0, currency: BTC)\n",
      "\tFlow(type: inflow, time: 5, value: 40.0, currency: BTC)\n",
      "}\n"
     ]
    }
   ],
   "source": [
    "\n",
    "cash_flow.add(\n",
    "    flow_type=\"inflow\",\n",
    "    value=40,\n",
    "    time=5,\n",
    "    currency=\"BTC\"\n",
    ")\n",
    "\n",
    "print(cash_flow.to_string())"
   ]
  },
  {
   "cell_type": "markdown",
   "metadata": {},
   "source": [
    "We can add another in-going flow at the same time (5) for another value (30). We should expect this flows to combine and generate a Flow at 5 for 70 BTC. "
   ]
  },
  {
   "cell_type": "code",
   "execution_count": 8,
   "metadata": {},
   "outputs": [
    {
     "name": "stdout",
     "output_type": "stream",
     "text": [
      "{\n",
      "\tFlow(type: outflow, time: 0, value: 100.0, currency: BTC)\n",
      "\tFlow(type: inflow, time: 2, value: 20.0, currency: BTC)\n",
      "\tFlow(type: inflow, time: 3, value: 50.0, currency: BTC)\n",
      "\tFlow(type: outflow, time: 4, value: 10.0, currency: BTC)\n",
      "\tFlow(type: inflow, time: 5, value: 70.0, currency: BTC)\n",
      "}\n"
     ]
    }
   ],
   "source": [
    "cash_flow.add(\n",
    "    flow_type=\"inflow\",\n",
    "    value=30,\n",
    "    time=5,\n",
    "    currency=\"BTC\"\n",
    ")\n",
    "\n",
    "print(cash_flow.to_string())"
   ]
  },
  {
   "cell_type": "markdown",
   "metadata": {},
   "source": [
    "We can modify at any time and the flows will adjust."
   ]
  },
  {
   "cell_type": "code",
   "execution_count": 9,
   "metadata": {},
   "outputs": [
    {
     "name": "stdout",
     "output_type": "stream",
     "text": [
      "{\n",
      "\tFlow(type: outflow, time: 0, value: 100.0, currency: BTC)\n",
      "\tFlow(type: inflow, time: 2, value: 28.0, currency: BTC)\n",
      "\tFlow(type: inflow, time: 3, value: 50.0, currency: BTC)\n",
      "\tFlow(type: outflow, time: 4, value: 10.0, currency: BTC)\n",
      "\tFlow(type: inflow, time: 5, value: 70.0, currency: BTC)\n",
      "}\n"
     ]
    }
   ],
   "source": [
    "cash_flow.add(\n",
    "    flow_type=\"inflow\",\n",
    "    value=15,\n",
    "    time=2,\n",
    "    currency=\"BTC\"\n",
    ")\n",
    "\n",
    "cash_flow.add(\n",
    "    flow_type=\"outflow\",\n",
    "    value=7,\n",
    "    time=2,\n",
    "    currency=\"BTC\"\n",
    ")\n",
    "\n",
    "print(cash_flow.to_string())"
   ]
  },
  {
   "cell_type": "markdown",
   "metadata": {},
   "source": [
    "A flow can change its type when combined with a grater flow."
   ]
  },
  {
   "cell_type": "code",
   "execution_count": 10,
   "metadata": {},
   "outputs": [
    {
     "name": "stdout",
     "output_type": "stream",
     "text": [
      "{\n",
      "\tFlow(type: outflow, time: 0, value: 100.0, currency: BTC)\n",
      "\tFlow(type: inflow, time: 2, value: 28.0, currency: BTC)\n",
      "\tFlow(type: inflow, time: 3, value: 50.0, currency: BTC)\n",
      "\tFlow(type: outflow, time: 4, value: 10.0, currency: BTC)\n",
      "\tFlow(type: inflow, time: 5, value: 70.0, currency: BTC)\n",
      "\tFlow(type: inflow, time: 8, value: 100.0, currency: BTC)\n",
      "}\n",
      "{\n",
      "\tFlow(type: outflow, time: 0, value: 100.0, currency: BTC)\n",
      "\tFlow(type: inflow, time: 2, value: 28.0, currency: BTC)\n",
      "\tFlow(type: inflow, time: 3, value: 50.0, currency: BTC)\n",
      "\tFlow(type: outflow, time: 4, value: 10.0, currency: BTC)\n",
      "\tFlow(type: inflow, time: 5, value: 70.0, currency: BTC)\n",
      "\tFlow(type: outflow, time: 8, value: 5.0, currency: BTC)\n",
      "}\n"
     ]
    }
   ],
   "source": [
    "cash_flow.add(\n",
    "    flow_type=\"inflow\",\n",
    "    value=100,\n",
    "    time=8,\n",
    "    currency=\"BTC\"\n",
    ")\n",
    "\n",
    "print(cash_flow.to_string())\n",
    "\n",
    "\n",
    "cash_flow.add(\n",
    "    flow_type=\"outflow\",\n",
    "    value=105,\n",
    "    time=8,\n",
    "    currency=\"BTC\"\n",
    ")\n",
    "\n",
    "\n",
    "print(cash_flow.to_string())\n"
   ]
  },
  {
   "cell_type": "markdown",
   "metadata": {},
   "source": [
    "## Plot representation"
   ]
  },
  {
   "cell_type": "markdown",
   "metadata": {},
   "source": [
    "A flow can be plotted by assigning postitive values to the \"inflows\" and negative values to the \"outflows\". The x-axis corresponds to the timescale."
   ]
  },
  {
   "cell_type": "code",
   "execution_count": 11,
   "metadata": {},
   "outputs": [
    {
     "data": {
      "image/png": "[encoded data removed]",
      "text/plain": [
       "<matplotlib.figure.Figure at 0x7f5cf54c5c50>"
      ]
     },
     "metadata": {},
     "output_type": "display_data"
    }
   ],
   "source": [
    "cash_flow.plot()"
   ]
  },
  {
   "cell_type": "markdown",
   "metadata": {},
   "source": [
    "## Profitability"
   ]
  },
  {
   "cell_type": "markdown",
   "metadata": {},
   "source": [
    "Profitability ratio is a measure that indicates the relation among the output flows and the input flows. An investor will prefer values > 1.\n",
    "\n",
    "\n",
    "$$\n",
    "profitability = \\frac{\\sum_i^n outflow_i }{\\sum_j^m inflow_j }\n",
    "$$\n",
    "\n",
    "To get this value call the method *.get_profitability()*"
   ]
  },
  {
   "cell_type": "code",
   "execution_count": 12,
   "metadata": {},
   "outputs": [
    {
     "name": "stdout",
     "output_type": "stream",
     "text": [
      "The profitability ratio is of 1.2869565217391303.\n"
     ]
    }
   ],
   "source": [
    "print(\"The profitability ratio is of {}.\".format(cash_flow.get_profitability()))"
   ]
  },
  {
   "cell_type": "markdown",
   "metadata": {},
   "source": [
    "## Internal Return Rate"
   ]
  },
  {
   "cell_type": "markdown",
   "metadata": {},
   "source": [
    "The IRR represent the rate at which the cash-flow structure adds value to the invested money. \n",
    "\n",
    "$$\n",
    "\\sum_{i=0}^n \\frac{C_i}{(1+r)^i} = 0\n",
    "$$\n",
    "\n",
    "{note: add more theory}"
   ]
  },
  {
   "cell_type": "code",
   "execution_count": 13,
   "metadata": {},
   "outputs": [
    {
     "name": "stdout",
     "output_type": "stream",
     "text": [
      "The annual internal return rate is of 8.395584 %\n"
     ]
    }
   ],
   "source": [
    "print(\"The annual internal return rate is of {} %\".format(cash_flow.get_irr()))"
   ]
  },
  {
   "cell_type": "markdown",
   "metadata": {
    "collapsed": true
   },
   "source": [
    "## Use dates"
   ]
  },
  {
   "cell_type": "markdown",
   "metadata": {},
   "source": [
    "You can use a date time datatype for representing real case scenarios."
   ]
  },
  {
   "cell_type": "code",
   "execution_count": 2,
   "metadata": {},
   "outputs": [],
   "source": [
    "real_cashflow = CashFlow(time_type=\"date\")\n",
    "\n",
    "real_cashflow.add(flow_type=\"outflow\", value=100, time=\"2018-01-01\")\n",
    "real_cashflow.add(flow_type=\"inflow\", value=50, time=\"2020-01-01\")\n",
    "real_cashflow.add(flow_type=\"inflow\", value=80, time=\"2022-01-01\")\n",
    "real_cashflow.add(flow_type=\"outflow\", value=10, time=\"2022-01-01\")"
   ]
  },
  {
   "cell_type": "markdown",
   "metadata": {},
   "source": [
    "Same metrics are available using the xnpv and xirr functions (based on days)."
   ]
  },
  {
   "cell_type": "code",
   "execution_count": 14,
   "metadata": {},
   "outputs": [
    {
     "name": "stdout",
     "output_type": "stream",
     "text": [
      "The profitability it's of 1.200000 with an IRR of 5.978710 percent.\n"
     ]
    }
   ],
   "source": [
    "res = \"The profitability it's of %f with an IRR of %f percent.\" % (real_cashflow.get_profitability(), real_cashflow.get_irr())\n",
    "\n",
    "print(res)"
   ]
  },
  {
   "cell_type": "markdown",
   "metadata": {},
   "source": [
    "Plot the cashflows with the x-axis as timestamp. "
   ]
  },
  {
   "cell_type": "code",
   "execution_count": 15,
   "metadata": {},
   "outputs": [
    {
     "data": {
      "image/png": "[encoded data removed]",
      "text/plain": [
       "<matplotlib.figure.Figure at 0x7fae9b5c5e10>"
      ]
     },
     "metadata": {},
     "output_type": "display_data"
    }
   ],
   "source": [
    "real_cashflow.plot()"
   ]
  },
  {
   "cell_type": "code",
   "execution_count": null,
   "metadata": {
    "collapsed": true
   },
   "outputs": [],
   "source": []
  }
 ],
 "metadata": {
  "kernelspec": {
   "display_name": "Python 3",
   "language": "python",
   "name": "python3"
  },
  "language_info": {
   "codemirror_mode": {
    "name": "ipython",
    "version": 3
   },
   "file_extension": ".py",
   "mimetype": "text/x-python",
   "name": "python",
   "nbconvert_exporter": "python",
   "pygments_lexer": "ipython3",
   "version": "3.6.3"
  }
 },
 "nbformat": 4,
 "nbformat_minor": 2
}
